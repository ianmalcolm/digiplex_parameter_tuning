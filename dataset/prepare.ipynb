{
 "cells": [
  {
   "cell_type": "code",
   "execution_count": 36,
   "metadata": {},
   "outputs": [],
   "source": [
    "import os\n",
    "import time\n",
    "import argparse\n",
    "import glob\n",
    "import random\n",
    "import shutil"
   ]
  },
  {
   "cell_type": "code",
   "execution_count": 7,
   "metadata": {},
   "outputs": [
    {
     "data": {
      "text/plain": [
       "_StoreAction(option_strings=['--data_path'], dest='data_path', nargs=None, const=None, default=None, type=<class 'str'>, choices=None, help=None, metavar=None)"
      ]
     },
     "execution_count": 7,
     "metadata": {},
     "output_type": "execute_result"
    }
   ],
   "source": [
    "parser = argparse.ArgumentParser(description='Sampling As for a folder of graphs')\n",
    "parser.add_argument('--random_seed', type=int, default=1)\n",
    "parser.add_argument('--test_size', type=float, default=0.1)\n",
    "parser.add_argument('--data_path', type=str, required=True)"
   ]
  },
  {
   "cell_type": "code",
   "execution_count": 34,
   "metadata": {},
   "outputs": [],
   "source": [
    "def main():\n",
    "    global args\n",
    "    \n",
    "    cmd = '--data_path ./'\n",
    "    cmd += ' --random_seed 1'\n",
    "    cmd += ' --test_size 0.1'\n",
    "    args = parser.parse_args(cmd.split(' '))\n",
    "    \n",
    "    random.seed(args.random_seed)\n",
    "    \n",
    "    shuffle_orders = None\n",
    "\n",
    "    for folder in [f for f in glob.glob(args.data_path+'/*') if os.path.isdir(f)]:\n",
    "        train_folder = os.path.join(folder, 'train')\n",
    "        test_folder = os.path.join(folder, 'test')\n",
    "        \n",
    "        files = [f for f in glob.glob(folder+'/*') if os.path.isfile(f)]\n",
    "        files.sort()\n",
    "        \n",
    "        if shuffle_orders is None:\n",
    "            shuffle_orders = [i for i in range(len(files))]\n",
    "            random.shuffle(shuffle_orders)\n",
    "            sep = int(len(files) * args.test_size)\n",
    "            shuffle_orders[:sep]\n",
    "            shuffle_orders[sep:]\n",
    "        assert len(shuffle_orders)==len(files)\n",
    "            \n",
    "        train_files = [files[idx] for idx in shuffle_orders[sep:]]    \n",
    "        test_files = [files[idx] for idx in shuffle_orders[:sep]]\n",
    "        \n",
    "        os.mkdir(train_folder)\n",
    "        os.mkdir(test_folder)\n",
    "        \n",
    "        for file in train_files:\n",
    "            shutil.move(file, train_folder)\n",
    "        for file in test_files:\n",
    "            shutil.move(file, test_folder)\n"
   ]
  },
  {
   "cell_type": "code",
   "execution_count": 35,
   "metadata": {},
   "outputs": [
    {
     "name": "stdout",
     "output_type": "stream",
     "text": [
      "\n",
      "test: ['./feat300/Xq1opEA_26.npy', './feat300/PAjwvBx_22.npy', './feat300/eZrElZF_20.npy', './feat300/X8UO7aR_23.npy', './feat300/3JsjIrU_20.npy', './feat300/GCrhr34_25.npy', './feat300/PYavLrF_21.npy', './feat300/5FBkthD_29.npy', './feat300/7eTKP3w_24.npy', './feat300/lYTVrMq_27.npy']\n",
      "\n",
      "test: ['./da/Xq1opEA_26.csv', './da/PAjwvBx_22.csv', './da/eZrElZF_20.csv', './da/X8UO7aR_23.csv', './da/3JsjIrU_20.csv', './da/GCrhr34_25.csv', './da/PYavLrF_21.csv', './da/5FBkthD_29.csv', './da/7eTKP3w_24.csv', './da/lYTVrMq_27.csv']\n",
      "\n",
      "test: ['./adj/Xq1opEA_26', './adj/PAjwvBx_22', './adj/eZrElZF_20', './adj/X8UO7aR_23', './adj/3JsjIrU_20', './adj/GCrhr34_25', './adj/PYavLrF_21', './adj/5FBkthD_29', './adj/7eTKP3w_24', './adj/lYTVrMq_27']\n",
      "\n",
      "test: ['./node/Xq1opEA_26', './node/PAjwvBx_22', './node/eZrElZF_20', './node/X8UO7aR_23', './node/3JsjIrU_20', './node/GCrhr34_25', './node/PYavLrF_21', './node/5FBkthD_29', './node/7eTKP3w_24', './node/lYTVrMq_27']\n"
     ]
    }
   ],
   "source": [
    "if __name__ == '__main__':\n",
    "    main()"
   ]
  }
 ],
 "metadata": {
  "kernelspec": {
   "display_name": "Python 3",
   "language": "python",
   "name": "python3"
  },
  "language_info": {
   "codemirror_mode": {
    "name": "ipython",
    "version": 3
   },
   "file_extension": ".py",
   "mimetype": "text/x-python",
   "name": "python",
   "nbconvert_exporter": "python",
   "pygments_lexer": "ipython3",
   "version": "3.6.10"
  }
 },
 "nbformat": 4,
 "nbformat_minor": 4
}
